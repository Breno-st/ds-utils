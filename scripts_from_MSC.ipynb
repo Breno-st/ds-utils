{
 "cells": [
  {
   "cell_type": "markdown",
   "metadata": {},
   "source": [
    "## 0) Libraries import"
   ]
  },
  {
   "cell_type": "markdown",
   "metadata": {},
   "source": [
    "## 1) Data import\n",
    "\n",
    "Separete \n",
    "- categorical\n",
    "- scalar\n",
    "- labes values\n",
    "- text processing (Hackathon 04)"
   ]
  },
  {
   "cell_type": "markdown",
   "metadata": {},
   "source": [
    "## 2) Data Analysis\n",
    "- info()\n",
    "- features description\n",
    "- identify unique values and proportions\n",
    "- labels classes balance"
   ]
  },
  {
   "cell_type": "markdown",
   "metadata": {},
   "source": [
    "## 3) Data Treatment:\n",
    "\n",
    "Categorical\n",
    "- understand and make assumption when transformations are necessary \n",
    "\n",
    "Scalar\n",
    "- Backtracking or na filling (Hackathon 03 - Classification)"
   ]
  },
  {
   "cell_type": "markdown",
   "metadata": {},
   "source": [
    "## 4) Data Exploration\n",
    "- correlation matrix\n",
    "- one-to-one relationship fetching"
   ]
  },
  {
   "cell_type": "markdown",
   "metadata": {},
   "source": [
    "## 5) Features Selection/Extraction\n",
    "Selections:\n",
    "- maximum relevance selection\n",
    "- minimal-redundacy selection\n",
    "- stepwise regression\n",
    "- algos importance features rank (decion-trees, svm)\n",
    "\n",
    "Extractions: \n",
    "- principal components\n",
    "- clustering: K-mean, PCA (TP 03 - Clustering: Discovery of PCA and K-Means)\n",
    "- reduce the dimensionality for visualization (Hackathon 04)\n",
    "- silhouette plot and confusion matrices for clustering (Hackathon 04)"
   ]
  },
  {
   "cell_type": "markdown",
   "metadata": {},
   "source": [
    "## 6) Model\n",
    "- Learning method\n",
    "- Loss Function\n",
    "- Optimization Function\n",
    "- Parameter list and possible tuning methods"
   ]
  },
  {
   "cell_type": "markdown",
   "metadata": {},
   "source": [
    "## 7) Parameter Tuning\n",
    "Single cross validation\n",
    "- parameter selection (TP 02)\n",
    "- consider labels balance\n",
    "- consider right metrics: f1, bcr, acc...\n"
   ]
  },
  {
   "cell_type": "markdown",
   "metadata": {},
   "source": [
    "## 8) Performance Assessement\n",
    "- Overfitting (TP 02)\n",
    "- Credible interval (from statistics plots)"
   ]
  }
 ],
 "metadata": {
  "kernelspec": {
   "display_name": "Python 3.8.3 64-bit",
   "language": "python",
   "name": "python38364bit7f1e8114d39d4554aac99694211e46b7"
  },
  "language_info": {
   "codemirror_mode": {
    "name": "ipython",
    "version": 3
   },
   "file_extension": ".py",
   "mimetype": "text/x-python",
   "name": "python",
   "nbconvert_exporter": "python",
   "pygments_lexer": "ipython3",
   "version": "3.8.3"
  }
 },
 "nbformat": 4,
 "nbformat_minor": 4
}
